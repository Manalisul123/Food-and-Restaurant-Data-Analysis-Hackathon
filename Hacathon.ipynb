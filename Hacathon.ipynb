{
 "cells": [
  {
   "cell_type": "code",
   "execution_count": 1,
   "id": "d4035af2-9ad7-4c35-a57b-dd1c7c61d779",
   "metadata": {},
   "outputs": [],
   "source": [
    "import numpy as np\n",
    "import pandas as pd"
   ]
  },
  {
   "cell_type": "code",
   "execution_count": 3,
   "id": "929d2dd9-925d-4e52-bb36-49fd1ba7cfaa",
   "metadata": {},
   "outputs": [],
   "source": [
    "df_zomato=pd.read_csv(\"C:/Users/sulru/Downloads/zomato_data.csv\")"
   ]
  },
  {
   "cell_type": "code",
   "execution_count": 4,
   "id": "c4b3b1ec-ca6c-42c8-9457-c9b8dc9a1d1c",
   "metadata": {},
   "outputs": [
    {
     "data": {
      "text/html": [
       "<div>\n",
       "<style scoped>\n",
       "    .dataframe tbody tr th:only-of-type {\n",
       "        vertical-align: middle;\n",
       "    }\n",
       "\n",
       "    .dataframe tbody tr th {\n",
       "        vertical-align: top;\n",
       "    }\n",
       "\n",
       "    .dataframe thead th {\n",
       "        text-align: right;\n",
       "    }\n",
       "</style>\n",
       "<table border=\"1\" class=\"dataframe\">\n",
       "  <thead>\n",
       "    <tr style=\"text-align: right;\">\n",
       "      <th></th>\n",
       "      <th>online_order</th>\n",
       "      <th>book_table</th>\n",
       "      <th>rate</th>\n",
       "      <th>votes</th>\n",
       "      <th>rest_type</th>\n",
       "      <th>dish_liked</th>\n",
       "      <th>cuisines</th>\n",
       "      <th>approx_costfor_two_people</th>\n",
       "      <th>listed_intype</th>\n",
       "      <th>listed_incity</th>\n",
       "    </tr>\n",
       "  </thead>\n",
       "  <tbody>\n",
       "    <tr>\n",
       "      <th>0</th>\n",
       "      <td>Yes</td>\n",
       "      <td>Yes</td>\n",
       "      <td>4.1/5</td>\n",
       "      <td>775</td>\n",
       "      <td>Casual Dining</td>\n",
       "      <td>Pasta, Lunch Buffet, Masala Papad, Paneer Laja...</td>\n",
       "      <td>North Indian, Mughlai, Chinese</td>\n",
       "      <td>800</td>\n",
       "      <td>Buffet</td>\n",
       "      <td>Banashankari</td>\n",
       "    </tr>\n",
       "    <tr>\n",
       "      <th>1</th>\n",
       "      <td>Yes</td>\n",
       "      <td>No</td>\n",
       "      <td>4.1/5</td>\n",
       "      <td>787</td>\n",
       "      <td>Casual Dining</td>\n",
       "      <td>Momos, Lunch Buffet, Chocolate Nirvana, Thai G...</td>\n",
       "      <td>Chinese, North Indian, Thai</td>\n",
       "      <td>800</td>\n",
       "      <td>Buffet</td>\n",
       "      <td>Banashankari</td>\n",
       "    </tr>\n",
       "    <tr>\n",
       "      <th>2</th>\n",
       "      <td>Yes</td>\n",
       "      <td>No</td>\n",
       "      <td>3.8/5</td>\n",
       "      <td>918</td>\n",
       "      <td>Cafe, Casual Dining</td>\n",
       "      <td>Churros, Cannelloni, Minestrone Soup, Hot Choc...</td>\n",
       "      <td>Cafe, Mexican, Italian</td>\n",
       "      <td>800</td>\n",
       "      <td>Buffet</td>\n",
       "      <td>Banashankari</td>\n",
       "    </tr>\n",
       "    <tr>\n",
       "      <th>3</th>\n",
       "      <td>No</td>\n",
       "      <td>No</td>\n",
       "      <td>3.7/5</td>\n",
       "      <td>88</td>\n",
       "      <td>Quick Bites</td>\n",
       "      <td>Masala Dosa</td>\n",
       "      <td>South Indian, North Indian</td>\n",
       "      <td>300</td>\n",
       "      <td>Buffet</td>\n",
       "      <td>Banashankari</td>\n",
       "    </tr>\n",
       "    <tr>\n",
       "      <th>4</th>\n",
       "      <td>No</td>\n",
       "      <td>No</td>\n",
       "      <td>3.8/5</td>\n",
       "      <td>166</td>\n",
       "      <td>Casual Dining</td>\n",
       "      <td>Panipuri, Gol Gappe</td>\n",
       "      <td>North Indian, Rajasthani</td>\n",
       "      <td>600</td>\n",
       "      <td>Buffet</td>\n",
       "      <td>Banashankari</td>\n",
       "    </tr>\n",
       "    <tr>\n",
       "      <th>...</th>\n",
       "      <td>...</td>\n",
       "      <td>...</td>\n",
       "      <td>...</td>\n",
       "      <td>...</td>\n",
       "      <td>...</td>\n",
       "      <td>...</td>\n",
       "      <td>...</td>\n",
       "      <td>...</td>\n",
       "      <td>...</td>\n",
       "      <td>...</td>\n",
       "    </tr>\n",
       "    <tr>\n",
       "      <th>51712</th>\n",
       "      <td>No</td>\n",
       "      <td>No</td>\n",
       "      <td>3.6 /5</td>\n",
       "      <td>27</td>\n",
       "      <td>Bar</td>\n",
       "      <td>NaN</td>\n",
       "      <td>Continental</td>\n",
       "      <td>1,500</td>\n",
       "      <td>Pubs and bars</td>\n",
       "      <td>Whitefield</td>\n",
       "    </tr>\n",
       "    <tr>\n",
       "      <th>51713</th>\n",
       "      <td>No</td>\n",
       "      <td>No</td>\n",
       "      <td>NaN</td>\n",
       "      <td>0</td>\n",
       "      <td>Bar</td>\n",
       "      <td>NaN</td>\n",
       "      <td>Finger Food</td>\n",
       "      <td>600</td>\n",
       "      <td>Pubs and bars</td>\n",
       "      <td>Whitefield</td>\n",
       "    </tr>\n",
       "    <tr>\n",
       "      <th>51714</th>\n",
       "      <td>No</td>\n",
       "      <td>No</td>\n",
       "      <td>NaN</td>\n",
       "      <td>0</td>\n",
       "      <td>Bar</td>\n",
       "      <td>NaN</td>\n",
       "      <td>Finger Food</td>\n",
       "      <td>2,000</td>\n",
       "      <td>Pubs and bars</td>\n",
       "      <td>Whitefield</td>\n",
       "    </tr>\n",
       "    <tr>\n",
       "      <th>51715</th>\n",
       "      <td>No</td>\n",
       "      <td>Yes</td>\n",
       "      <td>4.3 /5</td>\n",
       "      <td>236</td>\n",
       "      <td>Bar</td>\n",
       "      <td>Cocktails, Pizza, Buttermilk</td>\n",
       "      <td>Finger Food</td>\n",
       "      <td>2,500</td>\n",
       "      <td>Pubs and bars</td>\n",
       "      <td>Whitefield</td>\n",
       "    </tr>\n",
       "    <tr>\n",
       "      <th>51716</th>\n",
       "      <td>No</td>\n",
       "      <td>No</td>\n",
       "      <td>3.4 /5</td>\n",
       "      <td>13</td>\n",
       "      <td>Bar, Casual Dining</td>\n",
       "      <td>NaN</td>\n",
       "      <td>Finger Food, North Indian, Continental</td>\n",
       "      <td>1,500</td>\n",
       "      <td>Pubs and bars</td>\n",
       "      <td>Whitefield</td>\n",
       "    </tr>\n",
       "  </tbody>\n",
       "</table>\n",
       "<p>51717 rows × 10 columns</p>\n",
       "</div>"
      ],
      "text/plain": [
       "      online_order book_table    rate  votes            rest_type  \\\n",
       "0              Yes        Yes   4.1/5    775        Casual Dining   \n",
       "1              Yes         No   4.1/5    787        Casual Dining   \n",
       "2              Yes         No   3.8/5    918  Cafe, Casual Dining   \n",
       "3               No         No   3.7/5     88          Quick Bites   \n",
       "4               No         No   3.8/5    166        Casual Dining   \n",
       "...            ...        ...     ...    ...                  ...   \n",
       "51712           No         No  3.6 /5     27                  Bar   \n",
       "51713           No         No     NaN      0                  Bar   \n",
       "51714           No         No     NaN      0                  Bar   \n",
       "51715           No        Yes  4.3 /5    236                  Bar   \n",
       "51716           No         No  3.4 /5     13   Bar, Casual Dining   \n",
       "\n",
       "                                              dish_liked  \\\n",
       "0      Pasta, Lunch Buffet, Masala Papad, Paneer Laja...   \n",
       "1      Momos, Lunch Buffet, Chocolate Nirvana, Thai G...   \n",
       "2      Churros, Cannelloni, Minestrone Soup, Hot Choc...   \n",
       "3                                            Masala Dosa   \n",
       "4                                    Panipuri, Gol Gappe   \n",
       "...                                                  ...   \n",
       "51712                                                NaN   \n",
       "51713                                                NaN   \n",
       "51714                                                NaN   \n",
       "51715                       Cocktails, Pizza, Buttermilk   \n",
       "51716                                                NaN   \n",
       "\n",
       "                                     cuisines approx_costfor_two_people  \\\n",
       "0              North Indian, Mughlai, Chinese                       800   \n",
       "1                 Chinese, North Indian, Thai                       800   \n",
       "2                      Cafe, Mexican, Italian                       800   \n",
       "3                  South Indian, North Indian                       300   \n",
       "4                    North Indian, Rajasthani                       600   \n",
       "...                                       ...                       ...   \n",
       "51712                             Continental                     1,500   \n",
       "51713                             Finger Food                       600   \n",
       "51714                             Finger Food                     2,000   \n",
       "51715                             Finger Food                     2,500   \n",
       "51716  Finger Food, North Indian, Continental                     1,500   \n",
       "\n",
       "       listed_intype listed_incity  \n",
       "0             Buffet  Banashankari  \n",
       "1             Buffet  Banashankari  \n",
       "2             Buffet  Banashankari  \n",
       "3             Buffet  Banashankari  \n",
       "4             Buffet  Banashankari  \n",
       "...              ...           ...  \n",
       "51712  Pubs and bars    Whitefield  \n",
       "51713  Pubs and bars    Whitefield  \n",
       "51714  Pubs and bars    Whitefield  \n",
       "51715  Pubs and bars    Whitefield  \n",
       "51716  Pubs and bars    Whitefield  \n",
       "\n",
       "[51717 rows x 10 columns]"
      ]
     },
     "execution_count": 4,
     "metadata": {},
     "output_type": "execute_result"
    }
   ],
   "source": [
    "df_zomato"
   ]
  },
  {
   "cell_type": "code",
   "execution_count": 5,
   "id": "218a638e-fd1e-4cfa-8cde-6188cad9bdbc",
   "metadata": {},
   "outputs": [
    {
     "data": {
      "text/plain": [
       "(51717, 10)"
      ]
     },
     "execution_count": 5,
     "metadata": {},
     "output_type": "execute_result"
    }
   ],
   "source": [
    "# shape\n",
    "df_zomato.shape"
   ]
  },
  {
   "cell_type": "code",
   "execution_count": 13,
   "id": "6f882da5-2360-4e06-bebf-85e6996958f5",
   "metadata": {},
   "outputs": [],
   "source": [
    "# north indian cuisines\n",
    "north_count=df_zomato[df_zomato[\"cuisines\"].str.contains('North Indian',case=False,na=False)].shape[0]"
   ]
  },
  {
   "cell_type": "code",
   "execution_count": 14,
   "id": "9f16f567-5070-48be-b0ee-14f33c6b2429",
   "metadata": {},
   "outputs": [
    {
     "data": {
      "text/plain": [
       "21085"
      ]
     },
     "execution_count": 14,
     "metadata": {},
     "output_type": "execute_result"
    }
   ],
   "source": [
    "north_count"
   ]
  },
  {
   "cell_type": "code",
   "execution_count": 15,
   "id": "6fe8db96-81ab-4824-99e9-c4bcf0d56931",
   "metadata": {},
   "outputs": [],
   "source": [
    "b_df=df_zomato['cuisines'].value_counts().idxmax()"
   ]
  },
  {
   "cell_type": "code",
   "execution_count": 16,
   "id": "249ea236-0e4d-4dc5-8f3d-18559d90abd8",
   "metadata": {},
   "outputs": [
    {
     "data": {
      "text/plain": [
       "'North Indian'"
      ]
     },
     "execution_count": 16,
     "metadata": {},
     "output_type": "execute_result"
    }
   ],
   "source": [
    "b_df"
   ]
  },
  {
   "cell_type": "code",
   "execution_count": 26,
   "id": "0729978d-b752-42d4-9bbb-e73b1281b503",
   "metadata": {},
   "outputs": [],
   "source": [
    "df_zomato['approx_costfor_two_people'] = df_zomato['approx_costfor_two_people'].astype(str).str.replace(',', '')\n",
    "df_zomato['approx_costfor_two_people'] = pd.to_numeric(df_zomato['approx_costfor_two_people'], errors='coerce')\n",
    "\n",
    "df_zomato = df_zomato.dropna(subset=['approx_costfor_two_people', 'listed_incity'])\n",
    "\n",
    "avg_cost_by_locality = df_zomato.groupby('listed_incity')['approx_costfor_two_people'].mean()\n",
    "\n",
    "\n",
    "top_locality = avg_cost_by_locality.sort_values(ascending=False).head(1)"
   ]
  },
  {
   "cell_type": "code",
   "execution_count": 27,
   "id": "f4655db4-89a1-4f2d-abf4-5ea0c51c39f2",
   "metadata": {},
   "outputs": [
    {
     "data": {
      "text/plain": [
       "listed_incity\n",
       "Church Street    771.990104\n",
       "Name: approx_costfor_two_people, dtype: float64"
      ]
     },
     "execution_count": 27,
     "metadata": {},
     "output_type": "execute_result"
    }
   ],
   "source": [
    "top_locality"
   ]
  },
  {
   "cell_type": "code",
   "execution_count": 29,
   "id": "ecf6ef51-57eb-4b43-9102-e0b187225d60",
   "metadata": {},
   "outputs": [],
   "source": [
    "df=df_zomato"
   ]
  },
  {
   "cell_type": "code",
   "execution_count": 30,
   "id": "21dee267-6a62-40c5-bb85-71eb4539cae4",
   "metadata": {},
   "outputs": [],
   "source": [
    "df['rate'] = df['rate'].astype(str).str.replace('/5', '').str.strip()\n",
    "df['rate'] = pd.to_numeric(df['rate'], errors='coerce')\n",
    "\n",
    "\n",
    "df_filtered = df[df['votes'] > 1000]\n",
    "\n",
    "df_filtered = df_filtered.dropna(subset=['rate', 'rest_type'])\n",
    "avg_rating_by_type = df_filtered.groupby('rest_type')['rate'].mean()\n",
    "\n",
    "top_rated_type = avg_rating_by_type.sort_values(ascending=False).head(1)\n"
   ]
  },
  {
   "cell_type": "code",
   "execution_count": 31,
   "id": "aed09438-74c3-42bb-8094-ed11fa5e327d",
   "metadata": {},
   "outputs": [
    {
     "data": {
      "text/plain": [
       "rest_type\n",
       "Bakery    4.8\n",
       "Name: rate, dtype: float64"
      ]
     },
     "execution_count": 31,
     "metadata": {},
     "output_type": "execute_result"
    }
   ],
   "source": [
    "top_rated_type"
   ]
  },
  {
   "cell_type": "code",
   "execution_count": 36,
   "id": "52ec81ad-abc7-4a3e-b9a6-8355e5783f8b",
   "metadata": {},
   "outputs": [],
   "source": [
    "df['approx_costfor_two_people'] = df['approx_costfor_two_people'].astype(str).str.replace(',', '')\n",
    "df['approx_costfor_two_people'] = pd.to_numeric(df['approx_costfor_two_people'], errors='coerce')\n",
    "\n",
    "df = df.dropna(subset=['approx_costfor_two_people'])\n",
    "\n",
    "min_cost = df['approx_costfor_two_people'].min()"
   ]
  },
  {
   "cell_type": "code",
   "execution_count": 37,
   "id": "f0b581c0-955a-4693-8847-ffbfd01705b2",
   "metadata": {},
   "outputs": [
    {
     "data": {
      "text/plain": [
       "40.0"
      ]
     },
     "execution_count": 37,
     "metadata": {},
     "output_type": "execute_result"
    }
   ],
   "source": [
    "min_cost"
   ]
  },
  {
   "cell_type": "code",
   "execution_count": null,
   "id": "2c3dda69-d354-4d48-9b48-9fb44b7fb089",
   "metadata": {},
   "outputs": [],
   "source": []
  },
  {
   "cell_type": "code",
   "execution_count": 40,
   "id": "9646b274-1387-4e80-b2ce-c638e31f3f8c",
   "metadata": {},
   "outputs": [
    {
     "name": "stdout",
     "output_type": "stream",
     "text": [
      "Percentage of total online orders received by restaurants in Banashankari: 1.79%\n"
     ]
    }
   ],
   "source": [
    "online_orders_df = df[df['online_order'] == 'Yes']\n",
    "\n",
    "\n",
    "banashankari_online_orders = online_orders_df[online_orders_df['listed_incity'] == 'Banashankari']\n",
    "\n",
    "percentage = (len(banashankari_online_orders) / len(online_orders_df)) * 100\n",
    "print(f\"Percentage of total online orders received by restaurants in Banashankari: {percentage:.2f}%\")"
   ]
  },
  {
   "cell_type": "code",
   "execution_count": 41,
   "id": "d7f40b3b-49fa-4334-821b-074d14937527",
   "metadata": {},
   "outputs": [
    {
     "data": {
      "text/plain": [
       "1.7934568387859677"
      ]
     },
     "execution_count": 41,
     "metadata": {},
     "output_type": "execute_result"
    }
   ],
   "source": [
    "percentage "
   ]
  },
  {
   "cell_type": "code",
   "execution_count": 42,
   "id": "4c375d92-612f-4977-a82e-dfc1227608b5",
   "metadata": {},
   "outputs": [],
   "source": [
    "df['rate'] = df['rate'].astype(str).str.replace('/5', '').str.strip()\n",
    "df['rate'] = pd.to_numeric(df['rate'], errors='coerce')\n",
    "\n",
    "filtered_df = df[(df['votes'] > 500) & (df['rate'] < 3.0)]\n",
    "\n",
    "\n",
    "filtered_df = filtered_df.dropna(subset=['listed_incity'])\n",
    "count_by_locality = filtered_df['listed_incity'].value_counts()\n",
    "\n",
    "top_locality = count_by_locality.head(1)\n"
   ]
  },
  {
   "cell_type": "code",
   "execution_count": 43,
   "id": "3ead6370-4fef-46dc-9111-4865bd6e5a67",
   "metadata": {},
   "outputs": [
    {
     "data": {
      "text/plain": [
       "listed_incity\n",
       "Brookefield    8\n",
       "Name: count, dtype: int64"
      ]
     },
     "execution_count": 43,
     "metadata": {},
     "output_type": "execute_result"
    }
   ],
   "source": [
    "top_locality"
   ]
  },
  {
   "cell_type": "code",
   "execution_count": 46,
   "id": "28d8cafb-7116-4abf-a67a-e44718c0549a",
   "metadata": {},
   "outputs": [],
   "source": [
    "df = df.dropna(subset=['rest_type', 'listed_incity'])\n",
    "\n",
    "# Step 3: Split multiple restaurant types (e.g., \"Cafe, Casual Dining\")\n",
    "df['rest_type'] = df['rest_type'].astype(str)\n",
    "df_expanded = df.assign(rest_type=df['rest_type'].str.split(',')).explode('rest_type')\n",
    "\n",
    "# Step 4: Strip whitespace from restaurant type values\n",
    "df_expanded['rest_type'] = df_expanded['rest_type'].str.strip()\n",
    "\n",
    "# Step 5: Group by locality and count unique restaurant types\n",
    "diversity_score = df_expanded.groupby('listed_incity')['rest_type'].nunique()\n",
    "\n",
    "# Step 6: Sort and find the top locality\n",
    "top_locality = diversity_score.sort_values(ascending=False).head(1)\n"
   ]
  },
  {
   "cell_type": "code",
   "execution_count": 47,
   "id": "df768c3d-5cf5-4572-8151-c5e71fac8b8c",
   "metadata": {},
   "outputs": [
    {
     "data": {
      "text/plain": [
       "listed_incity\n",
       "Whitefield    22\n",
       "Name: rest_type, dtype: int64"
      ]
     },
     "execution_count": 47,
     "metadata": {},
     "output_type": "execute_result"
    }
   ],
   "source": [
    "top_locality"
   ]
  },
  {
   "cell_type": "code",
   "execution_count": 48,
   "id": "9b2045e8-9747-4814-832d-8dd0f654cfdf",
   "metadata": {},
   "outputs": [],
   "source": [
    "df['approx_costfor_two_people'] = df['approx_costfor_two_people'].astype(str).str.replace(',', '')\n",
    "df['approx_costfor_two_people'] = pd.to_numeric(df['approx_costfor_two_people'], errors='coerce')\n",
    "\n",
    "\n",
    "df = df.dropna(subset=['approx_costfor_two_people', 'listed_intype'])\n",
    "\n",
    "buffet = df[df['listed_intype'].str.contains('Buffet', case=False, na=False)]\n",
    "delivery = df[df['listed_intype'].str.contains('Delivery', case=False, na=False)]\n",
    "\n",
    "\n",
    "avg_buffet = buffet['approx_costfor_two_people'].mean()\n",
    "avg_delivery = delivery['approx_costfor_two_people'].mean()\n",
    "\n",
    "cost_difference = avg_buffet - avg_delivery\n"
   ]
  },
  {
   "cell_type": "code",
   "execution_count": 49,
   "id": "3718c831-5dc9-4627-9a1d-cb889bc26b45",
   "metadata": {},
   "outputs": [
    {
     "data": {
      "text/plain": [
       "841.9219757364119"
      ]
     },
     "execution_count": 49,
     "metadata": {},
     "output_type": "execute_result"
    }
   ],
   "source": [
    "cost_difference"
   ]
  },
  {
   "cell_type": "code",
   "execution_count": 50,
   "id": "fab28c68-b617-49ba-b110-cef2f34c1235",
   "metadata": {},
   "outputs": [],
   "source": [
    "df['rate'] = df['rate'].astype(str).str.replace('/5', '').str.strip()\n",
    "df['rate'] = pd.to_numeric(df['rate'], errors='coerce')\n",
    "\n",
    "filtered_df = df[\n",
    "    (df['online_order'] == 'Yes') &\n",
    "    (df['votes'] > 500) &\n",
    "    (df['rate'] > 4.2)\n",
    "]\n",
    "filtered_df = filtered_df.dropna(subset=['listed_incity'])\n",
    "best_areas = filtered_df['listed_incity'].value_counts()"
   ]
  },
  {
   "cell_type": "code",
   "execution_count": 54,
   "id": "66376aab-bb01-45c0-b235-bce3db9ece35",
   "metadata": {},
   "outputs": [
    {
     "data": {
      "text/plain": [
       "listed_incity\n",
       "Koramangala 7Th Block    97\n",
       "Name: count, dtype: int64"
      ]
     },
     "execution_count": 54,
     "metadata": {},
     "output_type": "execute_result"
    }
   ],
   "source": [
    "best_areas.head(1)"
   ]
  },
  {
   "cell_type": "code",
   "execution_count": 55,
   "id": "2ae34cdc-a700-46dd-a017-1f21642581e4",
   "metadata": {},
   "outputs": [],
   "source": [
    "df['votes'] = pd.to_numeric(df['votes'], errors='coerce')\n",
    "\n",
    "df = df.dropna(subset=['approx_costfor_two_people', 'votes', 'listed_incity'])\n",
    "\n",
    "\n",
    "df['estimated_revenue'] = df['approx_costfor_two_people'] * df['votes']\n",
    "revenue_by_locality = df.groupby('listed_incity')['estimated_revenue'].sum().sort_values(ascending=False)"
   ]
  },
  {
   "cell_type": "code",
   "execution_count": 57,
   "id": "a55430e2-4d9f-4221-9b6c-e97203c48818",
   "metadata": {},
   "outputs": [
    {
     "data": {
      "text/plain": [
       "listed_incity\n",
       "Koramangala 7Th Block    1.001290e+09\n",
       "Name: estimated_revenue, dtype: float64"
      ]
     },
     "execution_count": 57,
     "metadata": {},
     "output_type": "execute_result"
    }
   ],
   "source": [
    "revenue_by_locality.head(1)"
   ]
  },
  {
   "cell_type": "code",
   "execution_count": 58,
   "id": "b99f79f4-081f-40c5-9efe-8028b4746a87",
   "metadata": {},
   "outputs": [],
   "source": [
    "df = df.dropna(subset=['cuisines', 'rate'])\n",
    "df_both_cuisines = df[\n",
    "    df['cuisines'].str.contains('North Indian', case=False, na=False) &\n",
    "    df['cuisines'].str.contains('Chinese', case=False, na=False)\n",
    "]\n",
    "\n",
    "average_rating = df_both_cuisines['rate'].mean()"
   ]
  },
  {
   "cell_type": "code",
   "execution_count": 59,
   "id": "0af2dbb3-64fd-4ac4-95bc-e33da1188558",
   "metadata": {},
   "outputs": [
    {
     "data": {
      "text/plain": [
       "3.573461901268211"
      ]
     },
     "execution_count": 59,
     "metadata": {},
     "output_type": "execute_result"
    }
   ],
   "source": [
    "average_rating"
   ]
  },
  {
   "cell_type": "code",
   "execution_count": 60,
   "id": "a18d3a3d-4889-452e-b23a-70cce4ec0f7d",
   "metadata": {},
   "outputs": [],
   "source": [
    "df['votes'] = pd.to_numeric(df['votes'], errors='coerce')\n",
    "\n",
    "online_order_df = df[df['online_order'] == 'Yes']\n",
    "max_votes = online_order_df['votes'].max()"
   ]
  },
  {
   "cell_type": "code",
   "execution_count": 61,
   "id": "323d44e5-b519-4965-bf91-d2708cabff5c",
   "metadata": {},
   "outputs": [
    {
     "data": {
      "text/plain": [
       "16832"
      ]
     },
     "execution_count": 61,
     "metadata": {},
     "output_type": "execute_result"
    }
   ],
   "source": [
    "max_votes"
   ]
  },
  {
   "cell_type": "code",
   "execution_count": 64,
   "id": "d18de6ed-52d2-4ea6-b525-d32a327b289a",
   "metadata": {},
   "outputs": [
    {
     "name": "stdout",
     "output_type": "stream",
     "text": [
      "listed_incity\n",
      "Brigade Road         21\n",
      "Bannerghatta Road    18\n",
      "Brookefield          18\n",
      "Name: rest_type, dtype: int64\n"
     ]
    }
   ],
   "source": [
    "df = df.dropna(subset=['rest_type', 'listed_incity'])\n",
    "\n",
    "\n",
    "df['rest_type'] = df['rest_type'].astype(str)\n",
    "df_expanded = df.assign(rest_type=df['rest_type'].str.split(',')).explode('rest_type')\n",
    "df_expanded['rest_type'] = df_expanded['rest_type'].str.strip()\n",
    "\n",
    "target_localities = ['Brigade Road', 'BTM', 'Bannerghatta Road', 'Brookefield']\n",
    "df_filtered = df_expanded[df_expanded['listed_incity'].isin(target_localities)]\n",
    "\n",
    "diversity = df_filtered.groupby('listed_incity')['rest_type'].nunique()\n",
    "print(diversity.sort_values(ascending=False))"
   ]
  },
  {
   "cell_type": "code",
   "execution_count": null,
   "id": "95681e56-80fa-4910-93b7-a0965d42a251",
   "metadata": {},
   "outputs": [],
   "source": []
  }
 ],
 "metadata": {
  "kernelspec": {
   "display_name": "Python 3 (ipykernel)",
   "language": "python",
   "name": "python3"
  },
  "language_info": {
   "codemirror_mode": {
    "name": "ipython",
    "version": 3
   },
   "file_extension": ".py",
   "mimetype": "text/x-python",
   "name": "python",
   "nbconvert_exporter": "python",
   "pygments_lexer": "ipython3",
   "version": "3.12.7"
  }
 },
 "nbformat": 4,
 "nbformat_minor": 5
}
